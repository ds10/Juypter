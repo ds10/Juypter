{
 "cells": [
  {
   "cell_type": "code",
   "execution_count": 116,
   "metadata": {
    "collapsed": false
   },
   "outputs": [],
   "source": [
    "library(rjson)\n",
    "\n",
    "# url with some information about project in Andalussia\n",
    "url <- 'https://trunkdb.com/api/1.0/database/1055/datasetdata/1143?rowsperpage=50&startindex=0'\n",
    "\n",
    "# read url and convert to data.frame\n",
    "document <- fromJSON(file=url, method='C')\n"
   ]
  },
  {
   "cell_type": "code",
   "execution_count": 136,
   "metadata": {
    "collapsed": false
   },
   "outputs": [
    {
     "data": {
      "text/html": [
       "<ol>\n",
       "\t<li>'CountryName'</li>\n",
       "\t<li>'Population'</li>\n",
       "\t<li>'CityName'</li>\n",
       "</ol>\n"
      ],
      "text/latex": [
       "\\begin{enumerate}\n",
       "\\item 'CountryName'\n",
       "\\item 'Population'\n",
       "\\item 'CityName'\n",
       "\\end{enumerate}\n"
      ],
      "text/markdown": [
       "1. 'CountryName'\n",
       "2. 'Population'\n",
       "3. 'CityName'\n",
       "\n",
       "\n"
      ],
      "text/plain": [
       "[[1]]\n",
       "[1] \"CountryName\"\n",
       "\n",
       "[[2]]\n",
       "[1] \"Population\"\n",
       "\n",
       "[[3]]\n",
       "[1] \"CityName\"\n"
      ]
     },
     "metadata": {},
     "output_type": "display_data"
    },
    {
     "data": {
      "text/html": [
       "<table>\n",
       "<thead><tr><th></th><th scope=col>c..Albania....192000....Tirane..</th><th scope=col>c..Albania....62000....Shkoder..</th><th scope=col>c..Albania....60000....Durres..</th><th scope=col>c..Albania....56000....Vlore..</th><th scope=col>c..Albania....53000....Elbasan..</th><th scope=col>c..Albania....52000....Korce..</th><th scope=col>c..Greece....NULL....Komotini..</th><th scope=col>c..Greece....56705....Kavalla..</th><th scope=col>c..Greece....885737....Athens..</th><th scope=col>c..Greece....196389....Piraeus..</th><th scope=col>...</th><th scope=col>c..France....113828....Besancon..</th><th scope=col>c..France....102723....Rouen..</th><th scope=col>c..France....195854....Le.Havre..</th><th scope=col>c..France....2152423....Paris..</th><th scope=col>c..France....101743....Boulogne.Billancourt..</th><th scope=col>c..France....207996....Montpellier..</th><th scope=col>c..France....128471....Nimes..</th><th scope=col>c..France....105983....Perpignan..</th><th scope=col>c..France....133464....Limoges..</th><th scope=col>c..France....119594....Metz..</th></tr></thead>\n",
       "<tbody>\n",
       "\t<tr><th scope=row>CountryName</th><td>Albania             </td><td>Albania             </td><td>Albania             </td><td>Albania             </td><td>Albania             </td><td>Albania             </td><td>Greece              </td><td>Greece              </td><td>Greece              </td><td>Greece              </td><td>...                 </td><td>France              </td><td>France              </td><td>France              </td><td>France              </td><td>France              </td><td>France              </td><td>France              </td><td>France              </td><td>France              </td><td>France              </td></tr>\n",
       "\t<tr><th scope=row>Population</th><td>192000              </td><td>62000               </td><td>60000               </td><td>56000               </td><td>53000               </td><td>52000               </td><td>NULL                </td><td>56705               </td><td>885737              </td><td>196389              </td><td>...                 </td><td>113828              </td><td>102723              </td><td>195854              </td><td>2152423             </td><td>101743              </td><td>207996              </td><td>128471              </td><td>105983              </td><td>133464              </td><td>119594              </td></tr>\n",
       "\t<tr><th scope=row>CityName</th><td>Tirane              </td><td>Shkoder             </td><td>Durres              </td><td>Vlore               </td><td>Elbasan             </td><td>Korce               </td><td>Komotini            </td><td>Kavalla             </td><td>Athens              </td><td>Piraeus             </td><td>...                 </td><td>Besancon            </td><td>Rouen               </td><td>Le Havre            </td><td>Paris               </td><td>Boulogne Billancourt</td><td>Montpellier         </td><td>Nimes               </td><td>Perpignan           </td><td>Limoges             </td><td>Metz                </td></tr>\n",
       "</tbody>\n",
       "</table>\n"
      ],
      "text/latex": [
       "\\begin{tabular}{r|llllllllllllllllllllllllllllllllllllllllllllllllll}\n",
       "  & c..Albania....192000....Tirane.. & c..Albania....62000....Shkoder.. & c..Albania....60000....Durres.. & c..Albania....56000....Vlore.. & c..Albania....53000....Elbasan.. & c..Albania....52000....Korce.. & c..Greece....NULL....Komotini.. & c..Greece....56705....Kavalla.. & c..Greece....885737....Athens.. & c..Greece....196389....Piraeus.. & ... & c..France....113828....Besancon.. & c..France....102723....Rouen.. & c..France....195854....Le.Havre.. & c..France....2152423....Paris.. & c..France....101743....Boulogne.Billancourt.. & c..France....207996....Montpellier.. & c..France....128471....Nimes.. & c..France....105983....Perpignan.. & c..France....133464....Limoges.. & c..France....119594....Metz..\\\\\n",
       "\\hline\n",
       "\tCountryName & Albania              & Albania              & Albania              & Albania              & Albania              & Albania              & Greece               & Greece               & Greece               & Greece               & ...                  & France               & France               & France               & France               & France               & France               & France               & France               & France               & France              \\\\\n",
       "\tPopulation & 192000               & 62000                & 60000                & 56000                & 53000                & 52000                & NULL                 & 56705                & 885737               & 196389               & ...                  & 113828               & 102723               & 195854               & 2152423              & 101743               & 207996               & 128471               & 105983               & 133464               & 119594              \\\\\n",
       "\tCityName & Tirane               & Shkoder              & Durres               & Vlore                & Elbasan              & Korce                & Komotini             & Kavalla              & Athens               & Piraeus              & ...                  & Besancon             & Rouen                & Le Havre             & Paris                & Boulogne Billancourt & Montpellier          & Nimes                & Perpignan            & Limoges              & Metz                \\\\\n",
       "\\end{tabular}\n"
      ],
      "text/plain": [
       "            c..Albania....192000....Tirane.. c..Albania....62000....Shkoder..\n",
       "CountryName Albania                          Albania                         \n",
       "Population  192000                           62000                           \n",
       "CityName    Tirane                           Shkoder                         \n",
       "            c..Albania....60000....Durres.. c..Albania....56000....Vlore..\n",
       "CountryName Albania                         Albania                       \n",
       "Population  60000                           56000                         \n",
       "CityName    Durres                          Vlore                         \n",
       "            c..Albania....53000....Elbasan.. c..Albania....52000....Korce..\n",
       "CountryName Albania                          Albania                       \n",
       "Population  53000                            52000                         \n",
       "CityName    Elbasan                          Korce                         \n",
       "            c..Greece....NULL....Komotini.. c..Greece....56705....Kavalla..\n",
       "CountryName Greece                          Greece                         \n",
       "Population  NULL                            56705                          \n",
       "CityName    Komotini                        Kavalla                        \n",
       "            c..Greece....885737....Athens.. c..Greece....196389....Piraeus..\n",
       "CountryName Greece                          Greece                          \n",
       "Population  885737                          196389                          \n",
       "CityName    Athens                          Piraeus                         \n",
       "            ... c..France....113828....Besancon..\n",
       "CountryName ... France                           \n",
       "Population  ... 113828                           \n",
       "CityName    ... Besancon                         \n",
       "            c..France....102723....Rouen.. c..France....195854....Le.Havre..\n",
       "CountryName France                         France                           \n",
       "Population  102723                         195854                           \n",
       "CityName    Rouen                          Le Havre                         \n",
       "            c..France....2152423....Paris..\n",
       "CountryName France                         \n",
       "Population  2152423                        \n",
       "CityName    Paris                          \n",
       "            c..France....101743....Boulogne.Billancourt..\n",
       "CountryName France                                       \n",
       "Population  101743                                       \n",
       "CityName    Boulogne Billancourt                         \n",
       "            c..France....207996....Montpellier.. c..France....128471....Nimes..\n",
       "CountryName France                               France                        \n",
       "Population  207996                               128471                        \n",
       "CityName    Montpellier                          Nimes                         \n",
       "            c..France....105983....Perpignan.. c..France....133464....Limoges..\n",
       "CountryName France                             France                          \n",
       "Population  105983                             133464                          \n",
       "CityName    Perpignan                          Limoges                         \n",
       "            c..France....119594....Metz..\n",
       "CountryName France                       \n",
       "Population  119594                       \n",
       "CityName    Metz                         "
      ]
     },
     "metadata": {},
     "output_type": "display_data"
    }
   ],
   "source": [
    "readcolumns <- function(listname) {\n",
    "  d <- listname$columnName\n",
    "  d\n",
    "}\n",
    "\n",
    "readrows <- function(listname,cols) {\n",
    "    d<-c()\n",
    "     for (i in 1:length(cols)){\n",
    "        d <- c(d, listname$cell[[cols[[i]]]]$value ) \n",
    "     }  \n",
    "    \n",
    "    d\n",
    "}\n",
    "\n",
    "columns<-lapply(document$columns, readcolumns )\n",
    "rows<-lapply(document$row,readrows, cols=columns )\n",
    "\n",
    "columns\n",
    "\n",
    "as.data.frame(rows, row.names = columns)"
   ]
  },
  {
   "cell_type": "code",
   "execution_count": null,
   "metadata": {
    "collapsed": false
   },
   "outputs": [],
   "source": []
  },
  {
   "cell_type": "code",
   "execution_count": null,
   "metadata": {
    "collapsed": true
   },
   "outputs": [],
   "source": []
  }
 ],
 "metadata": {
  "kernelspec": {
   "display_name": "R",
   "language": "R",
   "name": "ir"
  },
  "language_info": {
   "codemirror_mode": "r",
   "file_extension": ".r",
   "mimetype": "text/x-r-source",
   "name": "R",
   "pygments_lexer": "r",
   "version": "3.3.1"
  }
 },
 "nbformat": 4,
 "nbformat_minor": 1
}
